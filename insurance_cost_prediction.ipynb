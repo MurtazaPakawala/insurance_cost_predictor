{
  "nbformat": 4,
  "nbformat_minor": 0,
  "metadata": {
    "colab": {
      "name": "insurance_cost_prediction.ipynb",
      "provenance": [],
      "authorship_tag": "ABX9TyM26QudZfnujvqAln5BXE/z",
      "include_colab_link": true
    },
    "kernelspec": {
      "name": "python3",
      "display_name": "Python 3"
    },
    "language_info": {
      "name": "python"
    },
    "widgets": {
      "application/vnd.jupyter.widget-state+json": {
        "05f17e3c2da645928b466c1b39d31c41": {
          "model_module": "@jupyter-widgets/controls",
          "model_name": "HBoxModel",
          "model_module_version": "1.5.0",
          "state": {
            "_dom_classes": [],
            "_model_module": "@jupyter-widgets/controls",
            "_model_module_version": "1.5.0",
            "_model_name": "HBoxModel",
            "_view_count": null,
            "_view_module": "@jupyter-widgets/controls",
            "_view_module_version": "1.5.0",
            "_view_name": "HBoxView",
            "box_style": "",
            "children": [
              "IPY_MODEL_f8b0a172641c4c91bddce6c3259e55d2",
              "IPY_MODEL_84c2b797d69c40f1a0693224c956ec11",
              "IPY_MODEL_ffa372fb2ecc4747aacf577751ae03da"
            ],
            "layout": "IPY_MODEL_0430e21ed00743f5895e18d3be02259c"
          }
        },
        "f8b0a172641c4c91bddce6c3259e55d2": {
          "model_module": "@jupyter-widgets/controls",
          "model_name": "HTMLModel",
          "model_module_version": "1.5.0",
          "state": {
            "_dom_classes": [],
            "_model_module": "@jupyter-widgets/controls",
            "_model_module_version": "1.5.0",
            "_model_name": "HTMLModel",
            "_view_count": null,
            "_view_module": "@jupyter-widgets/controls",
            "_view_module_version": "1.5.0",
            "_view_name": "HTMLView",
            "description": "",
            "description_tooltip": null,
            "layout": "IPY_MODEL_eaa2e16e44894712875a74064efc5577",
            "placeholder": "​",
            "style": "IPY_MODEL_78bcad4fd09b44098459e990c12f2d2b",
            "value": ""
          }
        },
        "84c2b797d69c40f1a0693224c956ec11": {
          "model_module": "@jupyter-widgets/controls",
          "model_name": "FloatProgressModel",
          "model_module_version": "1.5.0",
          "state": {
            "_dom_classes": [],
            "_model_module": "@jupyter-widgets/controls",
            "_model_module_version": "1.5.0",
            "_model_name": "FloatProgressModel",
            "_view_count": null,
            "_view_module": "@jupyter-widgets/controls",
            "_view_module_version": "1.5.0",
            "_view_name": "ProgressView",
            "bar_style": "success",
            "description": "",
            "description_tooltip": null,
            "layout": "IPY_MODEL_a3f49afb665e4672a4bc61064ccfcb31",
            "max": 54288,
            "min": 0,
            "orientation": "horizontal",
            "style": "IPY_MODEL_6075a72d84e34f90992cbb2b6b15c9c5",
            "value": 54288
          }
        },
        "ffa372fb2ecc4747aacf577751ae03da": {
          "model_module": "@jupyter-widgets/controls",
          "model_name": "HTMLModel",
          "model_module_version": "1.5.0",
          "state": {
            "_dom_classes": [],
            "_model_module": "@jupyter-widgets/controls",
            "_model_module_version": "1.5.0",
            "_model_name": "HTMLModel",
            "_view_count": null,
            "_view_module": "@jupyter-widgets/controls",
            "_view_module_version": "1.5.0",
            "_view_name": "HTMLView",
            "description": "",
            "description_tooltip": null,
            "layout": "IPY_MODEL_28b7bc604dab4fb3983c32b514ba39dd",
            "placeholder": "​",
            "style": "IPY_MODEL_551bc4e97e4b424880a9751db4272d3a",
            "value": " 55296/? [00:00&lt;00:00, 1506526.41it/s]"
          }
        },
        "0430e21ed00743f5895e18d3be02259c": {
          "model_module": "@jupyter-widgets/base",
          "model_name": "LayoutModel",
          "model_module_version": "1.2.0",
          "state": {
            "_model_module": "@jupyter-widgets/base",
            "_model_module_version": "1.2.0",
            "_model_name": "LayoutModel",
            "_view_count": null,
            "_view_module": "@jupyter-widgets/base",
            "_view_module_version": "1.2.0",
            "_view_name": "LayoutView",
            "align_content": null,
            "align_items": null,
            "align_self": null,
            "border": null,
            "bottom": null,
            "display": null,
            "flex": null,
            "flex_flow": null,
            "grid_area": null,
            "grid_auto_columns": null,
            "grid_auto_flow": null,
            "grid_auto_rows": null,
            "grid_column": null,
            "grid_gap": null,
            "grid_row": null,
            "grid_template_areas": null,
            "grid_template_columns": null,
            "grid_template_rows": null,
            "height": null,
            "justify_content": null,
            "justify_items": null,
            "left": null,
            "margin": null,
            "max_height": null,
            "max_width": null,
            "min_height": null,
            "min_width": null,
            "object_fit": null,
            "object_position": null,
            "order": null,
            "overflow": null,
            "overflow_x": null,
            "overflow_y": null,
            "padding": null,
            "right": null,
            "top": null,
            "visibility": null,
            "width": null
          }
        },
        "eaa2e16e44894712875a74064efc5577": {
          "model_module": "@jupyter-widgets/base",
          "model_name": "LayoutModel",
          "model_module_version": "1.2.0",
          "state": {
            "_model_module": "@jupyter-widgets/base",
            "_model_module_version": "1.2.0",
            "_model_name": "LayoutModel",
            "_view_count": null,
            "_view_module": "@jupyter-widgets/base",
            "_view_module_version": "1.2.0",
            "_view_name": "LayoutView",
            "align_content": null,
            "align_items": null,
            "align_self": null,
            "border": null,
            "bottom": null,
            "display": null,
            "flex": null,
            "flex_flow": null,
            "grid_area": null,
            "grid_auto_columns": null,
            "grid_auto_flow": null,
            "grid_auto_rows": null,
            "grid_column": null,
            "grid_gap": null,
            "grid_row": null,
            "grid_template_areas": null,
            "grid_template_columns": null,
            "grid_template_rows": null,
            "height": null,
            "justify_content": null,
            "justify_items": null,
            "left": null,
            "margin": null,
            "max_height": null,
            "max_width": null,
            "min_height": null,
            "min_width": null,
            "object_fit": null,
            "object_position": null,
            "order": null,
            "overflow": null,
            "overflow_x": null,
            "overflow_y": null,
            "padding": null,
            "right": null,
            "top": null,
            "visibility": null,
            "width": null
          }
        },
        "78bcad4fd09b44098459e990c12f2d2b": {
          "model_module": "@jupyter-widgets/controls",
          "model_name": "DescriptionStyleModel",
          "model_module_version": "1.5.0",
          "state": {
            "_model_module": "@jupyter-widgets/controls",
            "_model_module_version": "1.5.0",
            "_model_name": "DescriptionStyleModel",
            "_view_count": null,
            "_view_module": "@jupyter-widgets/base",
            "_view_module_version": "1.2.0",
            "_view_name": "StyleView",
            "description_width": ""
          }
        },
        "a3f49afb665e4672a4bc61064ccfcb31": {
          "model_module": "@jupyter-widgets/base",
          "model_name": "LayoutModel",
          "model_module_version": "1.2.0",
          "state": {
            "_model_module": "@jupyter-widgets/base",
            "_model_module_version": "1.2.0",
            "_model_name": "LayoutModel",
            "_view_count": null,
            "_view_module": "@jupyter-widgets/base",
            "_view_module_version": "1.2.0",
            "_view_name": "LayoutView",
            "align_content": null,
            "align_items": null,
            "align_self": null,
            "border": null,
            "bottom": null,
            "display": null,
            "flex": null,
            "flex_flow": null,
            "grid_area": null,
            "grid_auto_columns": null,
            "grid_auto_flow": null,
            "grid_auto_rows": null,
            "grid_column": null,
            "grid_gap": null,
            "grid_row": null,
            "grid_template_areas": null,
            "grid_template_columns": null,
            "grid_template_rows": null,
            "height": null,
            "justify_content": null,
            "justify_items": null,
            "left": null,
            "margin": null,
            "max_height": null,
            "max_width": null,
            "min_height": null,
            "min_width": null,
            "object_fit": null,
            "object_position": null,
            "order": null,
            "overflow": null,
            "overflow_x": null,
            "overflow_y": null,
            "padding": null,
            "right": null,
            "top": null,
            "visibility": null,
            "width": null
          }
        },
        "6075a72d84e34f90992cbb2b6b15c9c5": {
          "model_module": "@jupyter-widgets/controls",
          "model_name": "ProgressStyleModel",
          "model_module_version": "1.5.0",
          "state": {
            "_model_module": "@jupyter-widgets/controls",
            "_model_module_version": "1.5.0",
            "_model_name": "ProgressStyleModel",
            "_view_count": null,
            "_view_module": "@jupyter-widgets/base",
            "_view_module_version": "1.2.0",
            "_view_name": "StyleView",
            "bar_color": null,
            "description_width": ""
          }
        },
        "28b7bc604dab4fb3983c32b514ba39dd": {
          "model_module": "@jupyter-widgets/base",
          "model_name": "LayoutModel",
          "model_module_version": "1.2.0",
          "state": {
            "_model_module": "@jupyter-widgets/base",
            "_model_module_version": "1.2.0",
            "_model_name": "LayoutModel",
            "_view_count": null,
            "_view_module": "@jupyter-widgets/base",
            "_view_module_version": "1.2.0",
            "_view_name": "LayoutView",
            "align_content": null,
            "align_items": null,
            "align_self": null,
            "border": null,
            "bottom": null,
            "display": null,
            "flex": null,
            "flex_flow": null,
            "grid_area": null,
            "grid_auto_columns": null,
            "grid_auto_flow": null,
            "grid_auto_rows": null,
            "grid_column": null,
            "grid_gap": null,
            "grid_row": null,
            "grid_template_areas": null,
            "grid_template_columns": null,
            "grid_template_rows": null,
            "height": null,
            "justify_content": null,
            "justify_items": null,
            "left": null,
            "margin": null,
            "max_height": null,
            "max_width": null,
            "min_height": null,
            "min_width": null,
            "object_fit": null,
            "object_position": null,
            "order": null,
            "overflow": null,
            "overflow_x": null,
            "overflow_y": null,
            "padding": null,
            "right": null,
            "top": null,
            "visibility": null,
            "width": null
          }
        },
        "551bc4e97e4b424880a9751db4272d3a": {
          "model_module": "@jupyter-widgets/controls",
          "model_name": "DescriptionStyleModel",
          "model_module_version": "1.5.0",
          "state": {
            "_model_module": "@jupyter-widgets/controls",
            "_model_module_version": "1.5.0",
            "_model_name": "DescriptionStyleModel",
            "_view_count": null,
            "_view_module": "@jupyter-widgets/base",
            "_view_module_version": "1.2.0",
            "_view_name": "StyleView",
            "description_width": ""
          }
        }
      }
    }
  },
  "cells": [
    {
      "cell_type": "markdown",
      "metadata": {
        "id": "view-in-github",
        "colab_type": "text"
      },
      "source": [
        "<a href=\"https://colab.research.google.com/github/MurtazaPakawala/insurance_cost_predictor/blob/main/insurance_cost_prediction.ipynb\" target=\"_parent\"><img src=\"https://colab.research.google.com/assets/colab-badge.svg\" alt=\"Open In Colab\"/></a>"
      ]
    },
    {
      "cell_type": "code",
      "execution_count": null,
      "metadata": {
        "id": "6s-a8m79by3e"
      },
      "outputs": [],
      "source": [
        "import torch\n",
        "import torchvision\n",
        "import torch.nn as nn\n",
        "import pandas as pd\n",
        "import seaborn as sns\n",
        "import matplotlib.pyplot as plt\n",
        "import torch.nn.functional as F\n",
        "from torchvision.datasets.utils import download_url\n",
        "from torch.utils.data import DataLoader, TensorDataset, random_split\n"
      ]
    },
    {
      "cell_type": "markdown",
      "source": [
        "downloading and playing with data\n"
      ],
      "metadata": {
        "id": "azvLM0rn7oyo"
      }
    },
    {
      "cell_type": "code",
      "source": [
        "DATASET_URL = \"https://gist.github.com/BirajCoder/5f068dfe759c1ea6bdfce9535acdb72d/raw/c84d84e3c80f93be67f6c069cbdc0195ec36acbd/insurance.csv\"\n",
        "DATA_FILENAME = \"insurance.csv\"\n",
        "download_url(DATASET_URL, '.')"
      ],
      "metadata": {
        "colab": {
          "base_uri": "https://localhost:8080/",
          "height": 86,
          "referenced_widgets": [
            "05f17e3c2da645928b466c1b39d31c41",
            "f8b0a172641c4c91bddce6c3259e55d2",
            "84c2b797d69c40f1a0693224c956ec11",
            "ffa372fb2ecc4747aacf577751ae03da",
            "0430e21ed00743f5895e18d3be02259c",
            "eaa2e16e44894712875a74064efc5577",
            "78bcad4fd09b44098459e990c12f2d2b",
            "a3f49afb665e4672a4bc61064ccfcb31",
            "6075a72d84e34f90992cbb2b6b15c9c5",
            "28b7bc604dab4fb3983c32b514ba39dd",
            "551bc4e97e4b424880a9751db4272d3a"
          ]
        },
        "id": "pfH2UFGb6-IV",
        "outputId": "9d75810e-09e8-4841-ffcb-ff29740171b8"
      },
      "execution_count": null,
      "outputs": [
        {
          "output_type": "stream",
          "name": "stdout",
          "text": [
            "Downloading https://gist.githubusercontent.com/BirajCoder/5f068dfe759c1ea6bdfce9535acdb72d/raw/c84d84e3c80f93be67f6c069cbdc0195ec36acbd/insurance.csv to ./insurance.csv\n"
          ]
        },
        {
          "output_type": "display_data",
          "data": {
            "text/plain": [
              "  0%|          | 0/54288 [00:00<?, ?it/s]"
            ],
            "application/vnd.jupyter.widget-view+json": {
              "version_major": 2,
              "version_minor": 0,
              "model_id": "05f17e3c2da645928b466c1b39d31c41"
            }
          },
          "metadata": {}
        }
      ]
    },
    {
      "cell_type": "code",
      "source": [
        "insurance_df = pd.read_csv(DATA_FILENAME)"
      ],
      "metadata": {
        "id": "LEbJF0Tn7_Sx"
      },
      "execution_count": null,
      "outputs": []
    },
    {
      "cell_type": "code",
      "source": [
        "insurance_df.shape"
      ],
      "metadata": {
        "colab": {
          "base_uri": "https://localhost:8080/"
        },
        "id": "0yvHtQJH8bJv",
        "outputId": "1aab97c1-b423-469e-fb89-d1420223dccc"
      },
      "execution_count": null,
      "outputs": [
        {
          "output_type": "execute_result",
          "data": {
            "text/plain": [
              "(1338, 7)"
            ]
          },
          "metadata": {},
          "execution_count": 43
        }
      ]
    },
    {
      "cell_type": "code",
      "source": [
        "row_nums=insurance_df.shape[0]\n",
        "col_nums=insurance_df.shape[1]"
      ],
      "metadata": {
        "id": "mJuQoPTPFpaG"
      },
      "execution_count": null,
      "outputs": []
    },
    {
      "cell_type": "code",
      "source": [
        "insurance_df.head()"
      ],
      "metadata": {
        "colab": {
          "base_uri": "https://localhost:8080/",
          "height": 204
        },
        "id": "Fgv68McFEZal",
        "outputId": "e551f78f-eacb-411a-f7eb-522e1a397ad5"
      },
      "execution_count": null,
      "outputs": [
        {
          "output_type": "execute_result",
          "data": {
            "text/plain": [
              "   age     sex     bmi  children smoker     region      charges\n",
              "0   19  female  27.900         0    yes  southwest  16884.92400\n",
              "1   18    male  33.770         1     no  southeast   1725.55230\n",
              "2   28    male  33.000         3     no  southeast   4449.46200\n",
              "3   33    male  22.705         0     no  northwest  21984.47061\n",
              "4   32    male  28.880         0     no  northwest   3866.85520"
            ],
            "text/html": [
              "\n",
              "  <div id=\"df-2b7ecdcb-71a2-4ae2-85de-956083fe40e1\">\n",
              "    <div class=\"colab-df-container\">\n",
              "      <div>\n",
              "<style scoped>\n",
              "    .dataframe tbody tr th:only-of-type {\n",
              "        vertical-align: middle;\n",
              "    }\n",
              "\n",
              "    .dataframe tbody tr th {\n",
              "        vertical-align: top;\n",
              "    }\n",
              "\n",
              "    .dataframe thead th {\n",
              "        text-align: right;\n",
              "    }\n",
              "</style>\n",
              "<table border=\"1\" class=\"dataframe\">\n",
              "  <thead>\n",
              "    <tr style=\"text-align: right;\">\n",
              "      <th></th>\n",
              "      <th>age</th>\n",
              "      <th>sex</th>\n",
              "      <th>bmi</th>\n",
              "      <th>children</th>\n",
              "      <th>smoker</th>\n",
              "      <th>region</th>\n",
              "      <th>charges</th>\n",
              "    </tr>\n",
              "  </thead>\n",
              "  <tbody>\n",
              "    <tr>\n",
              "      <th>0</th>\n",
              "      <td>19</td>\n",
              "      <td>female</td>\n",
              "      <td>27.900</td>\n",
              "      <td>0</td>\n",
              "      <td>yes</td>\n",
              "      <td>southwest</td>\n",
              "      <td>16884.92400</td>\n",
              "    </tr>\n",
              "    <tr>\n",
              "      <th>1</th>\n",
              "      <td>18</td>\n",
              "      <td>male</td>\n",
              "      <td>33.770</td>\n",
              "      <td>1</td>\n",
              "      <td>no</td>\n",
              "      <td>southeast</td>\n",
              "      <td>1725.55230</td>\n",
              "    </tr>\n",
              "    <tr>\n",
              "      <th>2</th>\n",
              "      <td>28</td>\n",
              "      <td>male</td>\n",
              "      <td>33.000</td>\n",
              "      <td>3</td>\n",
              "      <td>no</td>\n",
              "      <td>southeast</td>\n",
              "      <td>4449.46200</td>\n",
              "    </tr>\n",
              "    <tr>\n",
              "      <th>3</th>\n",
              "      <td>33</td>\n",
              "      <td>male</td>\n",
              "      <td>22.705</td>\n",
              "      <td>0</td>\n",
              "      <td>no</td>\n",
              "      <td>northwest</td>\n",
              "      <td>21984.47061</td>\n",
              "    </tr>\n",
              "    <tr>\n",
              "      <th>4</th>\n",
              "      <td>32</td>\n",
              "      <td>male</td>\n",
              "      <td>28.880</td>\n",
              "      <td>0</td>\n",
              "      <td>no</td>\n",
              "      <td>northwest</td>\n",
              "      <td>3866.85520</td>\n",
              "    </tr>\n",
              "  </tbody>\n",
              "</table>\n",
              "</div>\n",
              "      <button class=\"colab-df-convert\" onclick=\"convertToInteractive('df-2b7ecdcb-71a2-4ae2-85de-956083fe40e1')\"\n",
              "              title=\"Convert this dataframe to an interactive table.\"\n",
              "              style=\"display:none;\">\n",
              "        \n",
              "  <svg xmlns=\"http://www.w3.org/2000/svg\" height=\"24px\"viewBox=\"0 0 24 24\"\n",
              "       width=\"24px\">\n",
              "    <path d=\"M0 0h24v24H0V0z\" fill=\"none\"/>\n",
              "    <path d=\"M18.56 5.44l.94 2.06.94-2.06 2.06-.94-2.06-.94-.94-2.06-.94 2.06-2.06.94zm-11 1L8.5 8.5l.94-2.06 2.06-.94-2.06-.94L8.5 2.5l-.94 2.06-2.06.94zm10 10l.94 2.06.94-2.06 2.06-.94-2.06-.94-.94-2.06-.94 2.06-2.06.94z\"/><path d=\"M17.41 7.96l-1.37-1.37c-.4-.4-.92-.59-1.43-.59-.52 0-1.04.2-1.43.59L10.3 9.45l-7.72 7.72c-.78.78-.78 2.05 0 2.83L4 21.41c.39.39.9.59 1.41.59.51 0 1.02-.2 1.41-.59l7.78-7.78 2.81-2.81c.8-.78.8-2.07 0-2.86zM5.41 20L4 18.59l7.72-7.72 1.47 1.35L5.41 20z\"/>\n",
              "  </svg>\n",
              "      </button>\n",
              "      \n",
              "  <style>\n",
              "    .colab-df-container {\n",
              "      display:flex;\n",
              "      flex-wrap:wrap;\n",
              "      gap: 12px;\n",
              "    }\n",
              "\n",
              "    .colab-df-convert {\n",
              "      background-color: #E8F0FE;\n",
              "      border: none;\n",
              "      border-radius: 50%;\n",
              "      cursor: pointer;\n",
              "      display: none;\n",
              "      fill: #1967D2;\n",
              "      height: 32px;\n",
              "      padding: 0 0 0 0;\n",
              "      width: 32px;\n",
              "    }\n",
              "\n",
              "    .colab-df-convert:hover {\n",
              "      background-color: #E2EBFA;\n",
              "      box-shadow: 0px 1px 2px rgba(60, 64, 67, 0.3), 0px 1px 3px 1px rgba(60, 64, 67, 0.15);\n",
              "      fill: #174EA6;\n",
              "    }\n",
              "\n",
              "    [theme=dark] .colab-df-convert {\n",
              "      background-color: #3B4455;\n",
              "      fill: #D2E3FC;\n",
              "    }\n",
              "\n",
              "    [theme=dark] .colab-df-convert:hover {\n",
              "      background-color: #434B5C;\n",
              "      box-shadow: 0px 1px 3px 1px rgba(0, 0, 0, 0.15);\n",
              "      filter: drop-shadow(0px 1px 2px rgba(0, 0, 0, 0.3));\n",
              "      fill: #FFFFFF;\n",
              "    }\n",
              "  </style>\n",
              "\n",
              "      <script>\n",
              "        const buttonEl =\n",
              "          document.querySelector('#df-2b7ecdcb-71a2-4ae2-85de-956083fe40e1 button.colab-df-convert');\n",
              "        buttonEl.style.display =\n",
              "          google.colab.kernel.accessAllowed ? 'block' : 'none';\n",
              "\n",
              "        async function convertToInteractive(key) {\n",
              "          const element = document.querySelector('#df-2b7ecdcb-71a2-4ae2-85de-956083fe40e1');\n",
              "          const dataTable =\n",
              "            await google.colab.kernel.invokeFunction('convertToInteractive',\n",
              "                                                     [key], {});\n",
              "          if (!dataTable) return;\n",
              "\n",
              "          const docLinkHtml = 'Like what you see? Visit the ' +\n",
              "            '<a target=\"_blank\" href=https://colab.research.google.com/notebooks/data_table.ipynb>data table notebook</a>'\n",
              "            + ' to learn more about interactive tables.';\n",
              "          element.innerHTML = '';\n",
              "          dataTable['output_type'] = 'display_data';\n",
              "          await google.colab.output.renderOutput(dataTable, element);\n",
              "          const docLink = document.createElement('div');\n",
              "          docLink.innerHTML = docLinkHtml;\n",
              "          element.appendChild(docLink);\n",
              "        }\n",
              "      </script>\n",
              "    </div>\n",
              "  </div>\n",
              "  "
            ]
          },
          "metadata": {},
          "execution_count": 39
        }
      ]
    },
    {
      "cell_type": "code",
      "source": [
        "insurance_df.charges.describe()"
      ],
      "metadata": {
        "colab": {
          "base_uri": "https://localhost:8080/"
        },
        "id": "1wqFjRS9IX4n",
        "outputId": "6e2988eb-d405-4f94-9420-e0eccfc64d14"
      },
      "execution_count": null,
      "outputs": [
        {
          "output_type": "execute_result",
          "data": {
            "text/plain": [
              "count     1338.000000\n",
              "mean     13270.422265\n",
              "std      12110.011237\n",
              "min       1121.873900\n",
              "25%       4740.287150\n",
              "50%       9382.033000\n",
              "75%      16639.912515\n",
              "max      63770.428010\n",
              "Name: charges, dtype: float64"
            ]
          },
          "metadata": {},
          "execution_count": 62
        }
      ]
    },
    {
      "cell_type": "markdown",
      "source": [
        "converting the dataframe into tensors"
      ],
      "metadata": {
        "id": "AivEAmS8I1sn"
      }
    },
    {
      "cell_type": "code",
      "source": [
        "input_cols = [\"age\", \"sex\",\"bmi\",\"children\",\"smoker\",\"region\"]\n",
        "categorical_cols = [\"sex\",\"smoker\",\"region\"]\n",
        "output_cols = [\"charges\"]"
      ],
      "metadata": {
        "id": "u0TZbSBXI_xA"
      },
      "execution_count": null,
      "outputs": []
    },
    {
      "cell_type": "code",
      "source": [
        "def dataframe_to_arrays(dataframe):\n",
        "    # Make a copy of the original dataframe\n",
        "    dataframe1 = dataframe.copy(deep=True)\n",
        "    # Convert non-numeric categorical columns to numbers\n",
        "    for col in categorical_cols:\n",
        "        dataframe1[col] = dataframe1[col].astype('category').cat.codes\n",
        "    # Extract input & outupts as numpy arrays\n",
        "    inputs_array = dataframe1[input_cols].to_numpy()\n",
        "    targets_array = dataframe1[output_cols].to_numpy()\n",
        "    return inputs_array, targets_array"
      ],
      "metadata": {
        "id": "xjYp01EjJJn1"
      },
      "execution_count": null,
      "outputs": []
    },
    {
      "cell_type": "code",
      "source": [
        "input_array,target_array=dataframe_to_arrays(insurance_df)\n",
        "input_array,target_array"
      ],
      "metadata": {
        "colab": {
          "base_uri": "https://localhost:8080/"
        },
        "id": "E7F9xy8EGZ7_",
        "outputId": "5e5b8de9-7db3-461a-c69e-f7c01e3200e9"
      },
      "execution_count": null,
      "outputs": [
        {
          "output_type": "execute_result",
          "data": {
            "text/plain": [
              "(array([[19.  ,  0.  , 27.9 ,  0.  ,  1.  ,  3.  ],\n",
              "        [18.  ,  1.  , 33.77,  1.  ,  0.  ,  2.  ],\n",
              "        [28.  ,  1.  , 33.  ,  3.  ,  0.  ,  2.  ],\n",
              "        ...,\n",
              "        [18.  ,  0.  , 36.85,  0.  ,  0.  ,  2.  ],\n",
              "        [21.  ,  0.  , 25.8 ,  0.  ,  0.  ,  3.  ],\n",
              "        [61.  ,  0.  , 29.07,  0.  ,  1.  ,  1.  ]]), array([[16884.924 ],\n",
              "        [ 1725.5523],\n",
              "        [ 4449.462 ],\n",
              "        ...,\n",
              "        [ 1629.8335],\n",
              "        [ 2007.945 ],\n",
              "        [29141.3603]]))"
            ]
          },
          "metadata": {},
          "execution_count": 68
        }
      ]
    },
    {
      "cell_type": "code",
      "source": [
        "inputs = torch.tensor(input_array,dtype=torch.float32)\n",
        "targets = torch.tensor(target_array, dtype = torch.float32)"
      ],
      "metadata": {
        "id": "PtPK734zGjdL"
      },
      "execution_count": null,
      "outputs": []
    },
    {
      "cell_type": "code",
      "source": [
        "print(type(inputs),inputs.dtype)"
      ],
      "metadata": {
        "colab": {
          "base_uri": "https://localhost:8080/"
        },
        "id": "mlMJl-LYKzah",
        "outputId": "8ae74d2c-d601-4607-e2b1-0603ee89ead3"
      },
      "execution_count": null,
      "outputs": [
        {
          "output_type": "stream",
          "name": "stdout",
          "text": [
            "<class 'torch.Tensor'> torch.float32\n"
          ]
        }
      ]
    },
    {
      "cell_type": "code",
      "source": [
        "dataset = TensorDataset(inputs,target)"
      ],
      "metadata": {
        "id": "xyOfsysHK_uR"
      },
      "execution_count": null,
      "outputs": []
    },
    {
      "cell_type": "code",
      "source": [
        "val_percent = 0.2\n",
        "val_size = int(0.2*row_nums)\n",
        "print(\"the validation size is : \",val_size)\n",
        "train_size = row_nums-val_size\n",
        "print(\"the training size is : \",train_size)"
      ],
      "metadata": {
        "colab": {
          "base_uri": "https://localhost:8080/"
        },
        "id": "IbEnGcheLwoL",
        "outputId": "ca4bbc36-e008-49b4-f961-5c9c77b231b1"
      },
      "execution_count": null,
      "outputs": [
        {
          "output_type": "stream",
          "name": "stdout",
          "text": [
            "the validation size is :  267\n",
            "the training size is :  1071\n"
          ]
        }
      ]
    },
    {
      "cell_type": "code",
      "source": [
        "train_ds, val_ds = random_split(dataset,[train_size,val_size])"
      ],
      "metadata": {
        "id": "fcjvWWTEL2nZ"
      },
      "execution_count": null,
      "outputs": []
    },
    {
      "cell_type": "markdown",
      "source": [
        "making the data loader and splitting in batch size of 32"
      ],
      "metadata": {
        "id": "0QLmMqvjNYOg"
      }
    },
    {
      "cell_type": "code",
      "source": [
        "batch_size=32\n",
        "train_loader = DataLoader(train_ds,batch_size,shuffle=True)\n",
        "val_loader = DataLoader(val_ds,batch_size,shuffle=True)"
      ],
      "metadata": {
        "id": "dN6E_UNGNPgQ"
      },
      "execution_count": null,
      "outputs": []
    },
    {
      "cell_type": "code",
      "source": [
        "for xb,yb in train_loader:\n",
        "  print(xb)\n",
        "  print(yb)\n",
        "  break"
      ],
      "metadata": {
        "colab": {
          "base_uri": "https://localhost:8080/"
        },
        "id": "F1lY9M0KN731",
        "outputId": "adadb07d-1318-46f9-e596-419c0dcb015e"
      },
      "execution_count": null,
      "outputs": [
        {
          "output_type": "stream",
          "name": "stdout",
          "text": [
            "tensor([[38.0000,  1.0000, 21.1200,  3.0000,  0.0000,  2.0000],\n",
            "        [64.0000,  1.0000, 33.8800,  0.0000,  1.0000,  2.0000],\n",
            "        [18.0000,  1.0000, 23.7500,  0.0000,  0.0000,  0.0000],\n",
            "        [45.0000,  1.0000, 24.0350,  2.0000,  0.0000,  0.0000],\n",
            "        [19.0000,  1.0000, 26.0300,  1.0000,  1.0000,  1.0000],\n",
            "        [32.0000,  0.0000, 17.7650,  2.0000,  1.0000,  1.0000],\n",
            "        [53.0000,  0.0000, 33.2500,  0.0000,  0.0000,  0.0000],\n",
            "        [54.0000,  1.0000, 39.6000,  1.0000,  0.0000,  3.0000],\n",
            "        [50.0000,  0.0000, 27.0750,  1.0000,  0.0000,  0.0000],\n",
            "        [21.0000,  1.0000, 36.8600,  0.0000,  0.0000,  1.0000],\n",
            "        [23.0000,  0.0000, 28.0000,  0.0000,  0.0000,  3.0000],\n",
            "        [22.0000,  0.0000, 36.0000,  0.0000,  0.0000,  3.0000],\n",
            "        [19.0000,  1.0000, 34.1000,  0.0000,  0.0000,  3.0000],\n",
            "        [44.0000,  1.0000, 37.1000,  2.0000,  0.0000,  3.0000],\n",
            "        [18.0000,  1.0000, 22.9900,  0.0000,  0.0000,  0.0000],\n",
            "        [39.0000,  1.0000, 26.4100,  0.0000,  1.0000,  0.0000],\n",
            "        [22.0000,  0.0000, 34.5800,  2.0000,  0.0000,  0.0000],\n",
            "        [62.0000,  0.0000, 30.4950,  2.0000,  0.0000,  1.0000],\n",
            "        [55.0000,  0.0000, 40.8100,  3.0000,  0.0000,  2.0000],\n",
            "        [19.0000,  1.0000, 25.5550,  1.0000,  0.0000,  1.0000],\n",
            "        [57.0000,  0.0000, 30.4950,  0.0000,  0.0000,  1.0000],\n",
            "        [22.0000,  0.0000, 31.0200,  3.0000,  1.0000,  2.0000],\n",
            "        [39.0000,  1.0000, 28.3000,  1.0000,  1.0000,  3.0000],\n",
            "        [43.0000,  1.0000, 35.9700,  3.0000,  1.0000,  2.0000],\n",
            "        [24.0000,  0.0000, 33.9900,  0.0000,  0.0000,  2.0000],\n",
            "        [54.0000,  1.0000, 33.6300,  1.0000,  0.0000,  1.0000],\n",
            "        [43.0000,  1.0000, 38.0600,  2.0000,  1.0000,  2.0000],\n",
            "        [63.0000,  1.0000, 33.1000,  0.0000,  0.0000,  3.0000],\n",
            "        [33.0000,  1.0000, 22.7050,  0.0000,  0.0000,  1.0000],\n",
            "        [53.0000,  0.0000, 37.4300,  1.0000,  0.0000,  1.0000],\n",
            "        [28.0000,  0.0000, 26.3150,  3.0000,  0.0000,  1.0000],\n",
            "        [21.0000,  0.0000, 17.4000,  1.0000,  0.0000,  3.0000]])\n",
            "tensor([[ 6652.5288],\n",
            "        [46889.2617],\n",
            "        [ 1705.6245],\n",
            "        [ 8604.4834],\n",
            "        [16450.8945],\n",
            "        [32734.1855],\n",
            "        [10564.8848],\n",
            "        [10450.5518],\n",
            "        [10106.1338],\n",
            "        [ 1917.3184],\n",
            "        [13126.6777],\n",
            "        [ 2166.7319],\n",
            "        [ 1261.4420],\n",
            "        [ 7740.3369],\n",
            "        [ 1704.5681],\n",
            "        [20149.3223],\n",
            "        [ 3925.7583],\n",
            "        [15019.7598],\n",
            "        [12485.8008],\n",
            "        [ 2221.5645],\n",
            "        [11840.7754],\n",
            "        [35595.5898],\n",
            "        [21082.1602],\n",
            "        [42124.5156],\n",
            "        [ 2473.3340],\n",
            "        [10825.2539],\n",
            "        [42560.4297],\n",
            "        [13393.7559],\n",
            "        [21984.4707],\n",
            "        [10959.6943],\n",
            "        [ 5312.1699],\n",
            "        [ 2585.2690]])\n"
          ]
        }
      ]
    },
    {
      "cell_type": "code",
      "source": [
        ""
      ],
      "metadata": {
        "id": "CNI_0NniOjf6"
      },
      "execution_count": null,
      "outputs": []
    }
  ]
}